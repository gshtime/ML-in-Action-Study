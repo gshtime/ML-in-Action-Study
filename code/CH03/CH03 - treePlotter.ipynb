{
 "cells": [
  {
   "cell_type": "code",
   "execution_count": 8,
   "metadata": {
    "collapsed": false
   },
   "outputs": [
    {
     "data": {
      "image/png": "[encoded data removed]",
      "text/plain": [
       "<matplotlib.figure.Figure at 0x18353def160>"
      ]
     },
     "metadata": {},
     "output_type": "display_data"
    }
   ],
   "source": [
    "#-*-coding:utf-8-*-\n",
    "import matplotlib.pyplot as plt\n",
    "decisionNode = dict(boxstyle=\"sawtooth\", fc=\"0.8\")\n",
    "leafNode = dict(boxstyle=\"round4\", fc=\"0.8\")\n",
    "arrow_args = dict(arrowstyle=\"<-\")\n",
    "from pylab import *  \n",
    "mpl.rcParams['font.sans-serif'] = ['SimHei']\n",
    "\n",
    "def plotNode(nodeTxt, centerPr, parentPt, nodeType):\n",
    "    createPlot.ax1.annotate(nodeTxt, xy= parentPt, xycoords= 'axes fraction',xytext=centerPr, textcoords='axes fraction', \\\n",
    "                            va=\"center\", ha = \"center\", bbox=nodeType, arrowprops=arrow_args)\n",
    "    \n",
    "def createPlot():\n",
    "    fig = plt.figure(1, facecolor = 'white')    #create one figure\n",
    "    fig.clf()    #clear the plot region\n",
    "    \n",
    "    createPlot.ax1 = plt.subplot(111, frameon=False)\n",
    "    plotNode(u'决策节点', (0.5, 0.1), (0.1, 0.5), decisionNode)\n",
    "    plotNode(u'叶节点', (0.8, 0.1), (0.3, 0.8), leafNode)\n",
    "    plt.show()\n",
    "createPlot()"
   ]
  },
  {
   "cell_type": "code",
   "execution_count": 17,
   "metadata": {
    "collapsed": false
   },
   "outputs": [
    {
     "data": {
      "text/plain": [
       "b'\\xe4\\xb8\\x8d\\xe8\\xbd\\xac\\xe4\\xb8\\x8d\\xe6\\x98\\xaf\\xe4\\xb8\\xad\\xe5\\x9b\\xbd\\xe4\\xba\\xba'"
      ]
     },
     "execution_count": 17,
     "metadata": {},
     "output_type": "execute_result"
    }
   ],
   "source": []
  },
  {
   "cell_type": "code",
   "execution_count": null,
   "metadata": {
    "collapsed": true
   },
   "outputs": [],
   "source": []
  }
 ],
 "metadata": {
  "kernelspec": {
   "display_name": "Python 3",
   "language": "python",
   "name": "python3"
  },
  "language_info": {
   "codemirror_mode": {
    "name": "ipython",
    "version": 3
   },
   "file_extension": ".py",
   "mimetype": "text/x-python",
   "name": "python",
   "nbconvert_exporter": "python",
   "pygments_lexer": "ipython3",
   "version": "3.6.0"
  }
 },
 "nbformat": 4,
 "nbformat_minor": 2
}
